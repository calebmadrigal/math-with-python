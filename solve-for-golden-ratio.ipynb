{
 "cells": [
  {
   "cell_type": "markdown",
   "id": "french-outreach",
   "metadata": {},
   "source": [
    "# Solve for golden ratio\n",
    "\n",
    "### First, let's find the golden ratio\n",
    "\n",
    "a:b is as b:a+b.\n",
    "\n",
    "Another way to write this is:\n",
    "\n",
    "a/b = b/(a+b)\n",
    "\n",
    "Alternatively we could flip the fractions:\n",
    "\n",
    "b/a = (a+b)/b.\n",
    "\n",
    "If we assume a=1, we can simplify to:\n",
    "\n",
    "b = (b+1)/b.\n",
    "\n",
    "We could also write this as:\n",
    "\n",
    "x = (x+1)/x.\n",
    "\n",
    "Let's see if we can find it making guesses, and trying to minimize error.\n",
    "\n",
    "To define the error of a given guess, it is simply one side of the equation minus the other side..."
   ]
  },
  {
   "cell_type": "code",
   "execution_count": 3,
   "id": "addressed-upgrade",
   "metadata": {},
   "outputs": [],
   "source": [
    "def golden_error(x):\n",
    "    return x - (x+1)/x"
   ]
  },
  {
   "cell_type": "markdown",
   "id": "generic-harassment",
   "metadata": {},
   "source": [
    "We should be able to find the golden "
   ]
  },
  {
   "cell_type": "code",
   "execution_count": 4,
   "id": "devoted-mobility",
   "metadata": {},
   "outputs": [
    {
     "data": {
      "text/plain": [
       "-1.0"
      ]
     },
     "execution_count": 4,
     "metadata": {},
     "output_type": "execute_result"
    }
   ],
   "source": [
    "golden_error(1)"
   ]
  },
  {
   "cell_type": "code",
   "execution_count": 5,
   "id": "large-requirement",
   "metadata": {},
   "outputs": [
    {
     "data": {
      "text/plain": [
       "0.5"
      ]
     },
     "execution_count": 5,
     "metadata": {},
     "output_type": "execute_result"
    }
   ],
   "source": [
    "golden_error(2)"
   ]
  },
  {
   "cell_type": "code",
   "execution_count": 6,
   "id": "apparent-namibia",
   "metadata": {},
   "outputs": [
    {
     "data": {
      "text/plain": [
       "18.95"
      ]
     },
     "execution_count": 6,
     "metadata": {},
     "output_type": "execute_result"
    }
   ],
   "source": [
    "golden_error(20)"
   ]
  },
  {
   "cell_type": "code",
   "execution_count": 7,
   "id": "hired-chambers",
   "metadata": {},
   "outputs": [
    {
     "data": {
      "text/plain": [
       "-10.9"
      ]
     },
     "execution_count": 7,
     "metadata": {},
     "output_type": "execute_result"
    }
   ],
   "source": [
    "golden_error(-10)"
   ]
  },
  {
   "cell_type": "markdown",
   "id": "returning-contest",
   "metadata": {},
   "source": [
    "We should be able to use the error to help us move in the right direction."
   ]
  },
  {
   "cell_type": "code",
   "execution_count": 11,
   "id": "floating-material",
   "metadata": {},
   "outputs": [
    {
     "data": {
      "text/plain": [
       "0.5"
      ]
     },
     "execution_count": 11,
     "metadata": {},
     "output_type": "execute_result"
    }
   ],
   "source": [
    "estimate = 2\n",
    "error = golden_error(estimate)\n",
    "error"
   ]
  },
  {
   "cell_type": "code",
   "execution_count": 22,
   "id": "saving-crystal",
   "metadata": {},
   "outputs": [
    {
     "data": {
      "text/plain": [
       "-0.9967568255595112"
      ]
     },
     "execution_count": 22,
     "metadata": {},
     "output_type": "execute_result"
    }
   ],
   "source": [
    "estimate = estimate - error\n",
    "error = golden_error(estimate)\n",
    "error"
   ]
  },
  {
   "cell_type": "code",
   "execution_count": 23,
   "id": "handed-league",
   "metadata": {},
   "outputs": [
    {
     "data": {
      "text/plain": [
       "0.49797433101288857"
      ]
     },
     "execution_count": 23,
     "metadata": {},
     "output_type": "execute_result"
    }
   ],
   "source": [
    "estimate = estimate - error\n",
    "error = golden_error(estimate)\n",
    "error"
   ]
  },
  {
   "cell_type": "code",
   "execution_count": 24,
   "id": "authentic-magazine",
   "metadata": {},
   "outputs": [
    {
     "data": {
      "text/plain": [
       "-0.16608114257080686"
      ]
     },
     "execution_count": 24,
     "metadata": {},
     "output_type": "execute_result"
    }
   ],
   "source": [
    "estimate = estimate - error\n",
    "error = golden_error(estimate)\n",
    "error"
   ]
  },
  {
   "cell_type": "code",
   "execution_count": 25,
   "id": "systematic-corps",
   "metadata": {},
   "outputs": [
    {
     "data": {
      "text/plain": [
       "0.06642168617965782"
      ]
     },
     "execution_count": 25,
     "metadata": {},
     "output_type": "execute_result"
    }
   ],
   "source": [
    "estimate = estimate - error\n",
    "error = golden_error(estimate)\n",
    "error"
   ]
  },
  {
   "cell_type": "code",
   "execution_count": 26,
   "id": "unexpected-sending",
   "metadata": {},
   "outputs": [
    {
     "data": {
      "text/plain": [
       "-0.02490981492141464"
      ]
     },
     "execution_count": 26,
     "metadata": {},
     "output_type": "execute_result"
    }
   ],
   "source": [
    "estimate = estimate - error\n",
    "error = golden_error(estimate)\n",
    "error"
   ]
  },
  {
   "cell_type": "code",
   "execution_count": 27,
   "id": "intensive-filing",
   "metadata": {},
   "outputs": [
    {
     "data": {
      "text/plain": [
       "0.009580459077144443"
      ]
     },
     "execution_count": 27,
     "metadata": {},
     "output_type": "execute_result"
    }
   ],
   "source": [
    "estimate = estimate - error\n",
    "error = golden_error(estimate)\n",
    "error"
   ]
  },
  {
   "cell_type": "code",
   "execution_count": 28,
   "id": "beautiful-portfolio",
   "metadata": {},
   "outputs": [
    {
     "data": {
      "text/plain": [
       "-0.003649733917237219"
      ]
     },
     "execution_count": 28,
     "metadata": {},
     "output_type": "execute_result"
    }
   ],
   "source": [
    "estimate = estimate - error\n",
    "error = golden_error(estimate)\n",
    "error"
   ]
  },
  {
   "cell_type": "code",
   "execution_count": 29,
   "id": "precious-paintball",
   "metadata": {},
   "outputs": [
    {
     "data": {
      "text/plain": [
       "0.0013954813790570952"
      ]
     },
     "execution_count": 29,
     "metadata": {},
     "output_type": "execute_result"
    }
   ],
   "source": [
    "estimate = estimate - error\n",
    "error = golden_error(estimate)\n",
    "error"
   ]
  },
  {
   "cell_type": "code",
   "execution_count": 30,
   "id": "photographic-atmosphere",
   "metadata": {},
   "outputs": [
    {
     "data": {
      "text/plain": [
       "-0.0005328209108332871"
      ]
     },
     "execution_count": 30,
     "metadata": {},
     "output_type": "execute_result"
    }
   ],
   "source": [
    "estimate = estimate - error\n",
    "error = golden_error(estimate)\n",
    "error"
   ]
  },
  {
   "cell_type": "code",
   "execution_count": 31,
   "id": "direct-solution",
   "metadata": {},
   "outputs": [
    {
     "data": {
      "text/plain": [
       "0.00020354945238376665"
      ]
     },
     "execution_count": 31,
     "metadata": {},
     "output_type": "execute_result"
    }
   ],
   "source": [
    "estimate = estimate - error\n",
    "error = golden_error(estimate)\n",
    "error"
   ]
  },
  {
   "cell_type": "code",
   "execution_count": 32,
   "id": "loved-energy",
   "metadata": {},
   "outputs": [
    {
     "data": {
      "text/plain": [
       "1.6181812822229917"
      ]
     },
     "execution_count": 32,
     "metadata": {},
     "output_type": "execute_result"
    }
   ],
   "source": [
    "estimate"
   ]
  },
  {
   "cell_type": "markdown",
   "id": "prospective-treaty",
   "metadata": {},
   "source": [
    "This works. So we can write this as an algorithm..."
   ]
  },
  {
   "cell_type": "code",
   "execution_count": 37,
   "id": "balanced-application",
   "metadata": {},
   "outputs": [],
   "source": [
    "def find_estimate(error_func, start, iterations):\n",
    "    estimates = []\n",
    "    estimate = start\n",
    "    for i in range(iterations+1):\n",
    "        estimates.append(estimate)\n",
    "        error = error_func(estimate)\n",
    "        estimate = estimate - error\n",
    "        \n",
    "    return estimates"
   ]
  },
  {
   "cell_type": "code",
   "execution_count": 38,
   "id": "stock-infection",
   "metadata": {},
   "outputs": [
    {
     "data": {
      "text/plain": [
       "[2,\n",
       " 1.5,\n",
       " 1.6666666666666667,\n",
       " 1.6,\n",
       " 1.625,\n",
       " 1.6153846153846154,\n",
       " 1.619047619047619,\n",
       " 1.6176470588235294,\n",
       " 1.6181818181818182,\n",
       " 1.6179775280898876,\n",
       " 1.6180555555555556]"
      ]
     },
     "execution_count": 38,
     "metadata": {},
     "output_type": "execute_result"
    }
   ],
   "source": [
    "find_estimate(golden_error, 2, 10)"
   ]
  },
  {
   "cell_type": "code",
   "execution_count": null,
   "id": "catholic-scotland",
   "metadata": {},
   "outputs": [],
   "source": []
  }
 ],
 "metadata": {
  "kernelspec": {
   "display_name": "Python 3",
   "language": "python",
   "name": "python3"
  },
  "language_info": {
   "codemirror_mode": {
    "name": "ipython",
    "version": 3
   },
   "file_extension": ".py",
   "mimetype": "text/x-python",
   "name": "python",
   "nbconvert_exporter": "python",
   "pygments_lexer": "ipython3",
   "version": "3.8.6"
  }
 },
 "nbformat": 4,
 "nbformat_minor": 5
}
